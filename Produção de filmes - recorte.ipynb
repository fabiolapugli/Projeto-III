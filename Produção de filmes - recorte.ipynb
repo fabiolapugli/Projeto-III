{
 "cells": [
  {
   "cell_type": "code",
   "execution_count": null,
   "metadata": {},
   "outputs": [],
   "source": [
    "import pandas as pd\n",
    "import seaborn as sns\n",
    "\n",
    "df_movies = pd.read_csv('IMDb movies.csv')"
   ]
  },
  {
   "cell_type": "code",
   "execution_count": null,
   "metadata": {},
   "outputs": [],
   "source": [
    "movie_yearly_count = df_movies['year'].value_counts().sort_index().tail(30).plot(kind='bar', color='r', alpha=0.5, grid=False, rot=45)\n",
    "movie_yearly_count.set_xlabel('Year')\n",
    "movie_yearly_count.set_ylabel('Movie Count')\n",
    "movie_yearly_count.set_title('Movie Count by Year')"
   ]
  },
  {
   "cell_type": "code",
   "execution_count": null,
   "metadata": {},
   "outputs": [],
   "source": [
    "movie_yearly_count = df_movies['year'].value_counts().sort_index().plot(kind='bar', color='r', alpha=0.5, grid=False, rot=45)\n",
    "movie_yearly_count.set_xlabel('Year')\n",
    "movie_yearly_count.set_ylabel('Movie Count')\n",
    "movie_yearly_count.set_title('Movie Count by Year')"
   ]
  },
  {
   "cell_type": "code",
   "execution_count": null,
   "metadata": {},
   "outputs": [],
   "source": [
    "movie_yearly_count = df_movies['year'].value_counts().sort_index().head(30).plot(kind='bar', color='r', alpha=0.5, grid=False, rot=45)\n",
    "movie_yearly_count.set_xlabel('Year')\n",
    "movie_yearly_count.set_ylabel('Movie Count')\n",
    "movie_yearly_count.set_title('Movie Count by Year')"
   ]
  },
  {
   "cell_type": "code",
   "execution_count": null,
   "metadata": {},
   "outputs": [],
   "source": []
  },
  {
   "cell_type": "code",
   "execution_count": null,
   "metadata": {},
   "outputs": [],
   "source": []
  }
 ],
 "metadata": {
  "kernelspec": {
   "display_name": "Python 3",
   "language": "python",
   "name": "python3"
  },
  "language_info": {
   "codemirror_mode": {
    "name": "ipython",
    "version": 3
   },
   "file_extension": ".py",
   "mimetype": "text/x-python",
   "name": "python",
   "nbconvert_exporter": "python",
   "pygments_lexer": "ipython3",
   "version": "3.7.4"
  }
 },
 "nbformat": 4,
 "nbformat_minor": 2
}
