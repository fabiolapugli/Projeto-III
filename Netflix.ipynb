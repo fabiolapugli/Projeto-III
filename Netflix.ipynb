{
 "cells": [
  {
   "cell_type": "code",
   "execution_count": null,
   "metadata": {},
   "outputs": [
    {
     "name": "stdout",
     "output_type": "stream",
     "text": [
      " * Serving Flask app \"__main__\" (lazy loading)\n",
      " * Environment: production\n",
      "   WARNING: This is a development server. Do not use it in a production deployment.\n",
      "   Use a production WSGI server instead.\n",
      " * Debug mode: off\n"
     ]
    },
    {
     "name": "stderr",
     "output_type": "stream",
     "text": [
      " * Running on http://0.0.0.0:8250/ (Press CTRL+C to quit)\n",
      "127.0.0.1 - - [29/Jan/2020 21:08:37] \"POST /ano/1991 HTTP/1.1\" 200 -\n",
      "127.0.0.1 - - [29/Jan/2020 21:09:08] \"POST /filme/Cleopatra HTTP/1.1\" 200 -\n",
      "127.0.0.1 - - [29/Jan/2020 21:09:44] \"POST /filme/Cleopatra HTTP/1.1\" 200 -\n"
     ]
    }
   ],
   "source": [
    "import pandas as pd\n",
    "from flask import Flask, request, current_app, jsonify, send_from_directory\n",
    "from pandas.io.json import json_normalize\n",
    "import itertools\n",
    "import operator\n",
    "from collections import Counter\n",
    "\n",
    "app = Flask(__name__)\n",
    "\n",
    "@app.route(\"/filme/<nome>\", methods=['POST'])\n",
    "def filme(nome):\n",
    "    df = pd.read_csv('IMDbmovies.csv')\n",
    "    df = df[[\"title\",\"original_title\",\"actors\",\"avg_vote\",\"genre\"]]\n",
    "    df2 = df.set_index(\"title\").loc[nome]\n",
    "    return df2.to_json(orient='records'),200\n",
    "\n",
    "@app.route(\"/ator/<nome>\", methods=['POST'])\n",
    "def ator(nome):\n",
    "    df = pd.read_csv('IMDb names.csv')\n",
    "    df_films = pd.read_csv('IMDbmovies.csv')\n",
    "    df_films2 = df_films.set_index(\"imdb_title_id\")\n",
    "    df2 = df.set_index(\"name\").loc[nome]\n",
    "    film_list = df2[\"known_for_titles\"].split(\",\")\n",
    "    genre_list = []\n",
    "    df_final = pd.DataFrame()\n",
    "\n",
    "    for x in film_list:\n",
    "        temp = df_films2.loc[x]\n",
    "        df_final = df_final.append(temp)\n",
    "\n",
    "        for y in temp[\"genre\"].split(\",\"):\n",
    "            genre_list.append(y)\n",
    "    df_final = df_final[[\"title\",\"avg_vote\",\"genre\"]]\n",
    "    jason = [{\"Actor\":nome},df_final.to_dict('records'), Counter(genre_list)]\n",
    "    return jsonify(jason),200\n",
    "\n",
    "@app.route(\"/genero/<nome>\", methods=['POST'])\n",
    "def genero(nome):\n",
    "    df_movies = pd.read_csv('IMDbmovies.csv')\n",
    "    genero = nome #simula GET genre\n",
    "    gen = df_movies[['imdb_title_id','title','year','genre','avg_vote']]\n",
    "    gen = gen.sort_values('avg_vote', ascending=False)\n",
    "    genero1 = gen[gen['genre'].str.contains(genero, na=False)]\n",
    "    return jsonify(genero1.head(25).to_dict(orient='records')),200\n",
    "\n",
    "@app.route(\"/ano/<ano>\", methods=['POST'])\n",
    "def ano(ano):\n",
    "    year = int(ano)\n",
    "    movies = pd.read_csv('IMDbmovies.csv')\n",
    "    filt = movies[['imdb_title_id','title','year','genre','avg_vote']]\n",
    "    filt = filt[(filt['year'] == year)].sort_values('avg_vote', ascending=False).head(25)\n",
    "    return filt.to_json(orient='records')\n",
    "\n",
    "\n",
    "app.run(host=\"0.0.0.0\", port=8250)\n"
   ]
  }
 ],
 "metadata": {
  "kernelspec": {
   "display_name": "Python 3",
   "language": "python",
   "name": "python3"
  },
  "language_info": {
   "codemirror_mode": {
    "name": "ipython",
    "version": 3
   },
   "file_extension": ".py",
   "mimetype": "text/x-python",
   "name": "python",
   "nbconvert_exporter": "python",
   "pygments_lexer": "ipython3",
   "version": "3.7.4"
  }
 },
 "nbformat": 4,
 "nbformat_minor": 2
}
